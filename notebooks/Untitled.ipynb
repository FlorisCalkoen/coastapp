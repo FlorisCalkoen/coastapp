{
 "cells": [
  {
   "cell_type": "code",
   "execution_count": 1,
   "id": "0f332af2-32a3-4062-97bd-e4776c03f71c",
   "metadata": {
    "execution": {
     "iopub.execute_input": "2024-10-24T11:51:28.336588Z",
     "iopub.status.busy": "2024-10-24T11:51:28.335939Z",
     "iopub.status.idle": "2024-10-24T11:51:28.429362Z",
     "shell.execute_reply": "2024-10-24T11:51:28.429078Z",
     "shell.execute_reply.started": "2024-10-24T11:51:28.336551Z"
    }
   },
   "outputs": [],
   "source": [
    "import duckdb"
   ]
  },
  {
   "cell_type": "code",
   "execution_count": 6,
   "id": "29daf3b2-c030-4de7-9fb3-6a511757bf03",
   "metadata": {
    "execution": {
     "iopub.execute_input": "2024-10-24T11:53:04.677232Z",
     "iopub.status.busy": "2024-10-24T11:53:04.676312Z",
     "iopub.status.idle": "2024-10-24T11:53:04.686816Z",
     "shell.execute_reply": "2024-10-24T11:53:04.686167Z",
     "shell.execute_reply.started": "2024-10-24T11:53:04.677180Z"
    }
   },
   "outputs": [
    {
     "data": {
      "text/plain": [
       "<duckdb.duckdb.DuckDBPyConnection at 0x10b5aa730>"
      ]
     },
     "execution_count": 6,
     "metadata": {},
     "output_type": "execute_result"
    }
   ],
   "source": [
    "con = duckdb.connect(database=\":memory\", read_only=False)\n",
    "con.execute(\"LOAD SPATIAL;\")"
   ]
  },
  {
   "cell_type": "code",
   "execution_count": 21,
   "id": "05aa7c3c-ad11-4735-b83d-e1ba341efdc9",
   "metadata": {
    "execution": {
     "iopub.execute_input": "2024-10-24T12:06:39.458503Z",
     "iopub.status.busy": "2024-10-24T12:06:39.457704Z",
     "iopub.status.idle": "2024-10-24T12:06:39.470014Z",
     "shell.execute_reply": "2024-10-24T12:06:39.469142Z",
     "shell.execute_reply.started": "2024-10-24T12:06:39.458463Z"
    }
   },
   "outputs": [],
   "source": [
    "p1 = 'POINT (119.766904 -19.953996)'\n",
    "p2 = 'POINT (119.766904 -20.953996)'"
   ]
  },
  {
   "cell_type": "code",
   "execution_count": 22,
   "id": "ea55b917-2be1-43b4-bb30-3936dcf1e23b",
   "metadata": {
    "execution": {
     "iopub.execute_input": "2024-10-24T12:13:54.749838Z",
     "iopub.status.busy": "2024-10-24T12:13:54.748905Z",
     "iopub.status.idle": "2024-10-24T12:13:54.769695Z",
     "shell.execute_reply": "2024-10-24T12:13:54.769215Z",
     "shell.execute_reply.started": "2024-10-24T12:13:54.749782Z"
    }
   },
   "outputs": [
    {
     "name": "stdout",
     "output_type": "stream",
     "text": [
      "   distance\n",
      "0       NaN\n"
     ]
    }
   ],
   "source": [
    "# Define the point in WKT format\n",
    "p1 = 'POINT (119.766904 -19.953996)'\n",
    "\n",
    "# Correct and format the query to compute the distance\n",
    "q1 = f\"\"\"\n",
    "    SELECT ST_Distance(\n",
    "        ST_Transform(ST_Point('{}'), 'EPSG:4326', 'EPSG:3857'),\n",
    "        ST_Transform(ST_GeomFromText('{p1}'), 'EPSG:4326', 'EPSG:3857')\n",
    "    ) AS distance;\n",
    "\"\"\"\n",
    "\n",
    "# Execute the query\n",
    "result = con.execute(q1).fetchdf()\n",
    "print(result)\n"
   ]
  },
  {
   "cell_type": "code",
   "execution_count": 1,
   "id": "dc0fa540-33db-4473-856c-df8695b134c1",
   "metadata": {
    "execution": {
     "iopub.execute_input": "2024-10-24T12:25:59.121817Z",
     "iopub.status.busy": "2024-10-24T12:25:59.121722Z",
     "iopub.status.idle": "2024-10-24T12:25:59.127189Z",
     "shell.execute_reply": "2024-10-24T12:25:59.126529Z",
     "shell.execute_reply.started": "2024-10-24T12:25:59.121806Z"
    }
   },
   "outputs": [
    {
     "ename": "SyntaxError",
     "evalue": "unterminated string literal (detected at line 11) (2657946545.py, line 11)",
     "output_type": "error",
     "traceback": [
      "\u001b[0;36m  Cell \u001b[0;32mIn[1], line 11\u001b[0;36m\u001b[0m\n\u001b[0;31m    -- Alternatively, let's say we got our input point from e.g., a GeoJSON file,\u001b[0m\n\u001b[0m                         ^\u001b[0m\n\u001b[0;31mSyntaxError\u001b[0m\u001b[0;31m:\u001b[0m unterminated string literal (detected at line 11)\n"
     ]
    }
   ],
   "source": [
    "\"\"\"SELECT ST_AsText(\n",
    "    ST_Transform(\n",
    "        st_point(52.373123, 4.892360),\n",
    "        'EPSG:4326',\n",
    "        'EPSG:3857'\n",
    "    )\n",
    ");\n",
    "\"\"\"\n",
    "\n",
    "\n",
    "\n",
    "# ----\n",
    "# POINT (544615.0239773799 6867874.103539125)\n",
    "\n",
    "# -- Alternatively, let's say we got our input point from e.g., a GeoJSON file,\n",
    "# -- which uses WGS84 but with [longitude, latitude] axis order. We can use the\n",
    "# -- `always_xy` parameter to force the input geometry to be interpreted as having\n",
    "# -- a [northing, easting] axis order instead, even though the source coordinate\n",
    "# -- reference system definition (WGS84) says otherwise.\n",
    "\n",
    "# SELECT ST_AsText(\n",
    "#     ST_Transform(\n",
    "#         -- note the axis order is reversed here\n",
    "#         st_point(4.892360, 52.373123),\n",
    "#         'EPSG:4326',\n",
    "#         'EPSG:3857',\n",
    "#         always_xy := true\n",
    "#     )\n",
    "# );\n",
    "# ----\n",
    "# POINT (544615.0239773799 6867874.103539125)"
   ]
  },
  {
   "cell_type": "code",
   "execution_count": null,
   "id": "36269021-5bcb-41a3-92a6-1c749659d664",
   "metadata": {},
   "outputs": [],
   "source": []
  }
 ],
 "metadata": {
  "kernelspec": {
   "display_name": "Python 3 (ipykernel)",
   "language": "python",
   "name": "python3"
  },
  "language_info": {
   "codemirror_mode": {
    "name": "ipython",
    "version": 3
   },
   "file_extension": ".py",
   "mimetype": "text/x-python",
   "name": "python",
   "nbconvert_exporter": "python",
   "pygments_lexer": "ipython3",
   "version": "3.11.10"
  }
 },
 "nbformat": 4,
 "nbformat_minor": 5
}
