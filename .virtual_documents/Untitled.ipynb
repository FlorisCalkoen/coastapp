import os
from typing import Literal

import dotenv
import duckdb
import geopandas as gpd
import geoviews as gv
import geoviews.tile_sources as gvts
import holoviews as hv
import panel as pn
import pyproj
import pystac_client
import shapely.geometry
from holoviews import streams
from shapely import wkt
from shapely.geometry import Point
from shapely.wkb import loads

dotenv.load_dotenv(override=True)

import logging

logging.basicConfig(
    filename="debug.log",
    level=logging.DEBUG,
    format="%(asctime)s - %(levelname)s - %(message)s",
)


class SpatialQueryEngine:
    def __init__(
        self,
        stac_url: str,
        collection_id: str,
        storage_backend: Literal["azure", "aws"] = "azure",
    ):
        """
        Initializes the SpatialQueryEngine with STAC collection details.

        Args:
            stac_url: URL to the STAC catalog.
            collection_id: ID of the collection within the STAC catalog.
            storage_backend: Specifies the storage backend to use. Defaults to 'azure'.
        """
        self.storage_backend = storage_backend
        self.con = duckdb.connect(database=":memory:", read_only=False)
        self.con.execute("INSTALL spatial;")
        self.con.execute("LOAD spatial;")
        self.configure_storage_backend()

        # Directly load quadtiles from the STAC collection
        self.quadtiles = self.load_quadtiles_from_stac(stac_url, collection_id)
        if len(self.quadtiles["proj:epsg"].unique()) > 1:
            raise ValueError("Multiple CRSs found in the STAC collection.")
        self.proj_epsg = self.quadtiles["proj:epsg"].unique().item()

        self.radius = 10000.0  # Max radius for nearest search

    def configure_storage_backend(self):
        if self.storage_backend == "azure":
            self.con.execute("INSTALL azure;")
            self.con.execute("LOAD azure;")
            self.con.execute(
                f"SET azure_storage_connection_string = '{os.getenv('AZURE_STORAGE_CONNECTION_STRING')}';"
            )
        elif self.storage_backend == "aws":
            self.con.execute("INSTALL httpfs;")
            self.con.execute("LOAD httpfs;")
            self.con.execute("SET s3_region = 'eu-west-2';")
            self.con.execute(
                f"SET s3_access_key_id = '{os.getenv('AWS_ACCESS_KEY_ID')}';"
            )
            self.con.execute(
                f"SET s3_secret_access_key = '{os.getenv('AWS_SECRET_ACCESS_KEY')}';"
            )

    def load_quadtiles_from_stac(
        self, stac_url: str, collection_id: str
    ) -> gpd.GeoDataFrame:
        """Fetches and processes a STAC collection to create a GeoDataFrame of quadtiles."""
        stac_client = pystac_client.Client.open(stac_url)
        collection = stac_client.get_collection(collection_id)
        items = collection.get_all_items()
        quadtiles = gpd.GeoDataFrame(
            [self.extract_storage_partition(item) for item in items], crs="EPSG:4326"
        )
        return quadtiles

    @staticmethod
    def extract_storage_partition(stac_item) -> dict:
        """Extracts geometry and href from a STAC item."""
        return {
            "geometry": shapely.geometry.shape(stac_item.geometry),
            "href": stac_item.assets["data"].href,
            "proj:epsg": stac_item.properties["proj:epsg"],
        }

    def get_nearest_geometry(self, x, y):
        logging.debug(f"point xy: {x, y}")
        point = Point(x, y)
        point_gdf = gpd.GeoDataFrame(geometry=[point], crs="EPSG:4326")
        href = gpd.sjoin(self.quadtiles, point_gdf, predicate="contains").href.iloc[0]
        point_wkt = point_gdf.to_crs(self.proj_epsg).geometry.to_wkt().iloc[0]
        # NOTE: for DuckDB queries a small hack that replaces az:// with azure://
        if self.storage_backend == "azure":
            href = href.replace("az://", "azure://")

        query = f"""
        SELECT *, ST_Distance(ST_GeomFromWKB(geometry), ST_GeomFromText('{point_wkt}')) AS distance
        FROM '{href}'
        WHERE ST_DWithin(ST_GeomFromWKB(geometry), ST_GeomFromText('{point_wkt}'), {self.radius})
        ORDER BY distance
        LIMIT 1;
        """

        transect = self.con.execute(query).fetchdf()
        transect["geometry"] = transect.geometry.map(lambda b: loads(bytes(b)))
        return gpd.GeoDataFrame(transect, crs=self.quadtiles.crs)


class SpatialQueryApp:
    def __init__(
        self, spatial_engine: SpatialQueryEngine, visualization_func, default_geometry
    ):
        logging.debug("Initializing SpatialQueryApp")
        self.spatial_engine = spatial_engine
        self.visualization_func = visualization_func
        self.default_geometry = default_geometry
        self.setup_ui()

    def setup_ui(self):
        logging.debug("Setting up UI components")
        self.tiles = gvts.EsriImagery.opts(width=500, height=500)
        self.point_draw = gv.Points([]).opts(size=10, color="red", tools=["hover"])
        self.point_draw_stream = streams.PointDraw(
            source=self.point_draw, num_objects=1
        )
        self.point_draw_stream.add_subscriber(self.update_view)
        self.plot = pn.pane.HoloViews(self.initialize_view())

    def initialize_view(self):
        logging.debug("Initializing view with default geometry")
        return (
            self.visualization_func(self.default_geometry)
            * self.point_draw
            * self.tiles
        )

    def update_view(self, data):
        logging.debug("update_view called with data: %s", data)
        if data:
            try:
                x, y = data["x"][0], data["y"][0]
                logging.debug("Extracted coordinates from draw tool: x=%s, y=%s", x, y)
                self.plot.object = self.get_geometry_and_visualize(x, y)
            except IndexError as e:
                logging.error("Error extracting coordinates: %s", e)
                logging.info("Falling back to default geometry for visualization")
                self.plot.object = (
                    self.visualization_func(self.default_geometry)
                    * self.point_draw
                    * self.tiles
                )
        else:
            logging.debug("No data received from draw tool, using default geometry")
            self.plot.object = (
                self.visualization_func(self.default_geometry)
                * self.point_draw
                * self.tiles
            )

    def get_geometry_and_visualize(self, x, y):
        try:
            logging.debug("Fetching nearest geometry for coordinates: x=%s, y=%s", x, y)
            geometry = self.spatial_engine.get_nearest_geometry(x, y)
            logging.debug("Nearest geometry fetched successfully")
            if geometry.empty:
                logging.warning("Empty geometry returned, using default geometry")
                geometry = self.default_geometry
            return self.visualization_func(geometry) * self.point_draw * self.tiles
        except Exception as e:
            logging.exception(
                "Exception occurred while fetching or visualizing geometry: %s", e
            )
            return (
                self.visualization_func(self.default_geometry)
                * self.point_draw
                * self.tiles
            )

    def view(self):
        logging.debug("Returning plot for display")
        return self.plot


def default_visualization(geometry):
    return gv.Path(geometry.to_crs(4326)).opts(
        color="red", line_width=1, tools=["hover"], active_tools=["wheel_zoom"]
    )


def prepare_default_geometry(data, crs):
    """
    Prepares a default geometry from a data dictionary and sets its CRS This should
    exactly match what is being returned from the spatial engine.
    """

    # Convert WKT string to a LineString geometry
    geom = wkt.loads(data["geometry"])
    # Create a GeoDataFrame
    gdf = gpd.GeoDataFrame([data], geometry=[geom], crs=pyproj.CRS.from_user_input(crs))
    return gdf


pn.extension()
hv.extension("bokeh")


import geopandas as gpd

pq = gpd.read_parquet("geometry.parquet")

gv.Path(pq.to_crs(4326)).opts(
        color="red", line_width=1, tools=["hover"], active_tools=["wheel_zoom"]
)





pq


gv.Path(default_geometry)


quadtile_href = (
    "https://coclico.blob.core.windows.net/public/quadtiles-gcts-2000m.parquet"
)
stac_href = "https://coclico.blob.core.windows.net/stac/v1/catalog.json"

default_geometry = {
    "tr_name": "cl33475tr223848",
    "lon": 4.27815580368042,
    "lat": 52.11359405517578,
    "bearing": 313.57275390625,
    "utm_crs": 32631,
    "coastline_name": 33475,
    "geometry": "LINESTRING (480870.5600721731898375 6816115.3957129446789622, 471608.4173124172375537 6825266.4335269629955292)",
    "__null_dask_index__": 5489669,
    "quadkey": "qk12",
    "distance": 41.843447957820615,
}

default_geometry = prepare_default_geometry(default_geometry, crs=3857).to_crs(4326)


spatial_engine = SpatialQueryEngine(
    stac_href, collection_id="gcts-2000m", storage_backend="azure"
)
app = SpatialQueryApp(spatial_engine, default_visualization, default_geometry)
pn.Column(app.view())


app.view()


import geopandas as gpd
import pystac_client
import shapely.geometry


def extract_storage_partitions(stac_item):
    """Extracts geometry and href from a STAC item.

    Args:
        stac_item: A STAC item object.

    Returns:
        A dictionary containing the 'geometry' and 'href' of the input STAC item.
    """
    return {
        "geometry": shapely.geometry.shape(stac_item.geometry),
        "href": stac_item.assets["data"].href,
    }


# Initialize a STAC client and retrieve a specific collection
stac_url = "https://coclico.blob.core.windows.net/stac/v1/catalog.json"
collection_id = "gcts-2000m"

stac_client = pystac_client.Client.open(stac_url)
collection = stac_client.get_collection(collection_id)

# Efficiently process all items in the collection to create a GeoDataFrame
items = collection.get_all_items()
quadtiles = gpd.GeoDataFrame([get_storage_partition(i) for i in items], crs="EPSG:4326")


item.bbox


import geoviews as gv
import geoviews.tile_sources as gvts
import holoviews as hv
import panel as pn
from holoviews import streams
from shapely.geometry import Point

hv.extension("bokeh")
pn.extension()


class SpatialQueryApp:
    def __init__(self, spatial_engine, default_location=(4.3, 52.1)):
        self.spatial_engine = spatial_engine
        self.default_location = default_location
        self.tiles = gvts.EsriImagery.opts(width=500, height=500)
        self.point_draw = gv.Points([]).opts(size=10, color="red", tools=["hover"])
        self.point_draw_stream = streams.PointDraw(
            source=self.point_draw, num_objects=1
        )
        self.point_draw_stream.add_subscriber(self.get_nearest_transect_wrapper)
        self.plot = pn.pane.HoloViews(self.tiles * self.point_draw)
        self.initialize_view()

    def initialize_view(self):
        x, y = self.default_location
        self.update_view(x, y, initial=True)

    def get_nearest_transect_wrapper(self, data):
        if data:
            x, y = data["x"][0], data["y"][0]
            self.update_view(x, y)

    def update_view(self, x, y, initial=False):
        try:
            tr = self.spatial_engine.get_nearest_transect(x, y)
            tr_view = gv.Path(tr.to_crs(4326)).opts(
                color="red", line_width=1, tools=["hover"], active_tools=["wheel_zoom"]
            )
            new_view = tr_view * self.point_draw * self.tiles
        except Exception as e:
            x, y = self.default_location
            tr = self.spatial_engine.get_nearest_transect(x, y)
            tr_view = gv.Path(tr.to_crs(4326)).opts(
                color="red", line_width=1, tools=["hover"], active_tools=["wheel_zoom"]
            )

        self.plot.object = new_view

    def view(self):
        return self.plot.view(title="Esri Imagery")


# Assuming SpatialQueryEngine is already defined and instantiated as spatial_engine
spatial_engine = SpatialQueryEngine("local.parquet")
app = SpatialQueryApp(spatial_engine)
app.view()


def default_visualization(geometry):
    return gv.Path(geometry.to_crs(4326)).opts(
        color="red", line_width=1, tools=["hover"], active_tools=["wheel_zoom"]
    )


class SpatialQueryApp:
    def __init__(
        self,
        spatial_engine,
        visualization_func=default_visualization,
        default_location=(4.3, 52.1),
    ):
        self.spatial_engine = spatial_engine
        self.visualization_func = visualization_func
        self.default_location = default_location
        self.setup_ui()

    def setup_ui(self):
        self.tiles = gvts.EsriImagery.opts(width=500, height=500)
        self.point_draw = gv.Points([]).opts(size=10, color="red", tools=["hover"])
        self.point_draw_stream = streams.PointDraw(
            source=self.point_draw, num_objects=1
        )
        self.point_draw_stream.add_subscriber(self.update_view)
        self.plot = pn.pane.HoloViews(self.initialize_view())

    def initialize_view(self):
        x, y = self.default_location
        return self.get_geometry_and_visualize(x, y)

    def update_view(self, data):
        if data:
            x, y = data["x"][0], data["y"][0]
            self.plot.object = self.get_geometry_and_visualize(x, y)
        else:
            self.plot.object = self.initialize_view()

    def get_geometry_and_visualize(self, x, y):
        try:
            # Attempt to fetch geometry for the provided coordinates
            geometry = self.spatial_engine.get_nearest_transect(x, y)

            # If geometry is empty, fetch the default geometry instead
            if geometry.empty:
                x, y = self.default_location
                geometry = self.spatial_engine.get_nearest_transect(x, y)

            # Visualize the geometry
            return self.visualization_func(geometry) * self.point_draw * self.tiles
        except Exception:
            # In case of any error, revert to the default transect for visualization
            x, y = self.default_location
            default_geometry = self.spatial_engine.get_geometry(x, y)
            return (
                self.visualization_func(default_geometry) * self.point_draw * self.tiles
            )

    def view(self):
        return self.plot.view(title="Esri Imagery")


spatial_engine = SpatialQueryEngine("local.parquet")
spatial_app = SpatialQueryApp(spatial_engine, default_visualization)


spatial_app.view()


# # Initialize the map with point draw tool
# tiles = gvts.EsriImagery().opts(width=600, height=600, tools=['hover'])
# point_draw = gv.Points([]).opts(size=10, color="red", tools=["hover"])
# point_draw_stream = streams.PointDraw(source=point_draw, num_objects=1)

# point_draw_stream.add_subscriber(get_quadtile)

# Add markdown pane for displaying transect information
# markdown_pane = pn.pane.Markdown("Some Panel")

# Combine tiles, point drawing tool, and markdown pane into a Panel layout
# app = pn.Column(tiles)
# app.view(title="Esri Imagery")
